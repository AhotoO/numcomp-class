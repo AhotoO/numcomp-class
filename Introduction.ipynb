{
 "cells": [
  {
   "cell_type": "code",
   "execution_count": 7,
   "metadata": {
    "slideshow": {
     "slide_type": "skip"
    }
   },
   "outputs": [],
   "source": [
    "%matplotlib inline\n",
    "import numpy as np\n",
    "import matplotlib.pyplot as plt\n",
    "plt.style.use('ggplot')"
   ]
  },
  {
   "cell_type": "markdown",
   "metadata": {
    "cell_style": "split",
    "slideshow": {
     "slide_type": "slide"
    }
   },
   "source": [
    "# Rootfinding\n",
    "\n",
    "Given $f(x)$, find $x$ such that $f(x) = 0$.\n",
    "\n",
    "* Cost\n",
    "  * Evaluation of $f(x)$ and perhaps derivatives $f'(x)$.\n",
    "  * Other arithmetic\n",
    "* Convergence: how many evaluations to reach a given accuracy?\n",
    "* Robustness: does the algorithm always converge?"
   ]
  },
  {
   "cell_type": "code",
   "execution_count": 8,
   "metadata": {
    "cell_style": "split",
    "slideshow": {
     "slide_type": "fragment"
    }
   },
   "outputs": [
    {
     "data": {
      "image/png": "[encoded data removed]",
      "text/plain": [
       "<Figure size 432x288 with 1 Axes>"
      ]
     },
     "metadata": {},
     "output_type": "display_data"
    }
   ],
   "source": [
    "x = np.linspace(-2, 2)\n",
    "f = np.exp(x)*np.cos(x) + 1\n",
    "plt.plot(x, f)\n",
    "plt.plot(x, 0*x, 'k');"
   ]
  },
  {
   "cell_type": "markdown",
   "metadata": {
    "cell_style": "split",
    "slideshow": {
     "slide_type": "slide"
    }
   },
   "source": [
    "# Numerical linear algebra\n",
    "\n",
    "## Factorization\n",
    "\n",
    "* $QR = A$, such that $Q^T Q = I$ and $R$ is right-triangular.\n",
    "* $L U = A$, such that $L$ and $U$ are lower and upper triangular, respectively.\n",
    "* $X \\Lambda X^{-1} = A$ where $\\Lambda$ is diagonal.\n",
    "* $U \\Sigma V^T = A$, such that $U^T U = I$, $V^T V = I$, and $\\Sigma$ is diagonal with nonnegative entries."
   ]
  },
  {
   "cell_type": "markdown",
   "metadata": {
    "cell_style": "split",
    "slideshow": {
     "slide_type": ""
    }
   },
   "source": [
    "## Concepts\n",
    "* Accurate estimates of cost\n",
    "* Orthogonality, null spaces, projections\n",
    "* Stable and backwards-stable algorithms\n",
    "* Conditioning\n",
    "* Develop a language in which to frame many concepts in the course"
   ]
  },
  {
   "cell_type": "markdown",
   "metadata": {
    "slideshow": {
     "slide_type": "slide"
    }
   },
   "source": [
    "# Function approximation\n",
    "\n",
    "## Interpolation\n",
    "\n",
    "Given samples $(x_0, f(x_0)), (x_1, f(x_1)), \\dotsc$, determine an easily-computable function $g(x)$ that exactly fits these samples and behaves sensibly in between.\n",
    "\n",
    "## Regression\n",
    "\n",
    "Given noisy data $(x_0, y_0), (x_1, y_1), \\dotsc$, determine an easily-computable function $g(x)$ that explains these data."
   ]
  },
  {
   "cell_type": "markdown",
   "metadata": {
    "slideshow": {
     "slide_type": "slide"
    }
   },
   "source": [
    "# Numerical differentiation\n",
    "\n",
    "Given a function $f(x)$ (as a computer program or callable function), define a new function\n",
    "\n",
    "$$g(x) \\approx f'(x). $$\n",
    "\n",
    "# Numerical integration\n",
    "\n",
    "Given a function $f(x)$ (as a computer program or callable function), approximate the integral\n",
    "\n",
    "$$ \\int_a^b f(x) . $$"
   ]
  },
  {
   "cell_type": "markdown",
   "metadata": {
    "slideshow": {
     "slide_type": "slide"
    }
   },
   "source": [
    "# Numerical optimization\n",
    "\n",
    "Given a scalar function $f(x)$ (and perhaps its gradient $f'(x)$), determine\n",
    "$$ x_* = \\operatorname{argmin}_x f(x) . $$"
   ]
  },
  {
   "cell_type": "markdown",
   "metadata": {
    "slideshow": {
     "slide_type": "slide"
    }
   },
   "source": [
    "# Differential equations\n",
    "\n",
    "Given a dynamical system\n",
    "$$ \\frac{\\partial u(t)}{\\partial t} = f(u(t)), $$\n",
    "and initial condition $u(0) = u_0$, estimate $u(t)$ for arbitrary $t$."
   ]
  },
  {
   "cell_type": "markdown",
   "metadata": {
    "slideshow": {
     "slide_type": "slide"
    }
   },
   "source": [
    "# Higher dimensions\n",
    "\n",
    "Many of these algorithms will generalize to functions of multiple variables.  Different algorithms may be needed for such \"high-dimensional\" problems."
   ]
  },
  {
   "cell_type": "markdown",
   "metadata": {
    "slideshow": {
     "slide_type": "slide"
    }
   },
   "source": [
    "# Introduction to machine epsilon\n",
    "\n",
    "We approximate real numbers with **floating point** arithmetic, which can only represent discrete values.  In particular, there exists a number, which we call $\\epsilon_{\\text{machine}}$, such that\n",
    "$$ 1 \\oplus \\epsilon_{\\text{machine}} = 1 .$$"
   ]
  },
  {
   "cell_type": "code",
   "execution_count": 9,
   "metadata": {
    "slideshow": {
     "slide_type": "fragment"
    }
   },
   "outputs": [
    {
     "data": {
      "text/plain": [
       "1.1102230246251565e-16"
      ]
     },
     "execution_count": 9,
     "metadata": {},
     "output_type": "execute_result"
    }
   ],
   "source": [
    "eps = 1\n",
    "while 1 + eps != 1:\n",
    "    eps = eps / 2\n",
    "eps"
   ]
  }
 ],
 "metadata": {
  "celltoolbar": "Slideshow",
  "kernelspec": {
   "display_name": "Python 3",
   "language": "python",
   "name": "python3"
  },
  "language_info": {
   "codemirror_mode": {
    "name": "ipython",
    "version": 3
   },
   "file_extension": ".py",
   "mimetype": "text/x-python",
   "name": "python",
   "nbconvert_exporter": "python",
   "pygments_lexer": "ipython3",
   "version": "3.8.1"
  },
  "rise": {
   "enable_chalkboard": true
  }
 },
 "nbformat": 4,
 "nbformat_minor": 2
}
